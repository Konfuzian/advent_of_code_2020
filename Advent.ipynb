{
 "cells": [
  {
   "cell_type": "code",
   "execution_count": 43,
   "id": "casual-gossip",
   "metadata": {},
   "outputs": [],
   "source": [
    "# just import everything with namespaces here, so it's obvious when we use what\n",
    "import os\n",
    "import itertools\n",
    "import math\n",
    "import re\n",
    "import operator\n",
    "import collections\n",
    "import functools"
   ]
  },
  {
   "cell_type": "markdown",
   "id": "annual-bangladesh",
   "metadata": {},
   "source": [
    "```\n",
    "--- Day 1: Report Repair ---\n",
    "After saving Christmas five years in a row, you've decided to take a vacation at a nice resort on a tropical island. Surely, Christmas will go on without you.\n",
    "\n",
    "The tropical island has its own currency and is entirely cash-only. The gold coins used there have a little picture of a starfish; the locals just call them stars. None of the currency exchanges seem to have heard of them, but somehow, you'll need to find fifty of these coins by the time you arrive so you can pay the deposit on your room.\n",
    "\n",
    "To save your vacation, you need to get all fifty stars by December 25th.\n",
    "\n",
    "Collect stars by solving puzzles. Two puzzles will be made available on each day in the Advent calendar; the second puzzle is unlocked when you complete the first. Each puzzle grants one star. Good luck!\n",
    "\n",
    "Before you leave, the Elves in accounting just need you to fix your expense report (your puzzle input); apparently, something isn't quite adding up.\n",
    "\n",
    "Specifically, they need you to find the two entries that sum to 2020 and then multiply those two numbers together.\n",
    "\n",
    "For example, suppose your expense report contained the following:\n",
    "\n",
    "1721\n",
    "979\n",
    "366\n",
    "299\n",
    "675\n",
    "1456\n",
    "In this list, the two entries that sum to 2020 are 1721 and 299. Multiplying them together produces 1721 * 299 = 514579, so the correct answer is 514579.\n",
    "\n",
    "Of course, your expense report is much larger. Find the two entries that sum to 2020; what do you get if you multiply them together?\n",
    "```"
   ]
  },
  {
   "cell_type": "code",
   "execution_count": 343,
   "id": "eleven-convert",
   "metadata": {},
   "outputs": [],
   "source": [
    "def read_file(filename):\n",
    "    with open(os.path.join('input', filename), 'r') as f:\n",
    "        return [ int(line) for line in f.read().splitlines() ]"
   ]
  },
  {
   "cell_type": "code",
   "execution_count": 344,
   "id": "assisted-apparel",
   "metadata": {},
   "outputs": [
    {
     "data": {
      "text/plain": [
       "1013211"
      ]
     },
     "execution_count": 344,
     "metadata": {},
     "output_type": "execute_result"
    }
   ],
   "source": [
    "data = read_file('01.txt')\n",
    "combinations = itertools.combinations(data, 2)\n",
    "result = [ c[0] * c[1] for c in combinations if c[0] + c[1] == 2020 ][0]\n",
    "result"
   ]
  },
  {
   "cell_type": "markdown",
   "id": "international-separate",
   "metadata": {},
   "source": [
    "```\n",
    "--- Part Two ---\n",
    "The Elves in accounting are thankful for your help; one of them even offers you a starfish coin they had left over from a past vacation. They offer you a second one if you can find three numbers in your expense report that meet the same criteria.\n",
    "\n",
    "Using the above example again, the three entries that sum to 2020 are 979, 366, and 675. Multiplying them together produces the answer, 241861950.\n",
    "\n",
    "In your expense report, what is the product of the three entries that sum to 2020?\n",
    "```"
   ]
  },
  {
   "cell_type": "code",
   "execution_count": 345,
   "id": "fitting-manhattan",
   "metadata": {},
   "outputs": [
    {
     "data": {
      "text/plain": [
       "13891280"
      ]
     },
     "execution_count": 345,
     "metadata": {},
     "output_type": "execute_result"
    }
   ],
   "source": [
    "combinations = itertools.combinations(data, 3)\n",
    "result = [ math.prod(c) for c in combinations if sum(c) == 2020 ][0]\n",
    "result"
   ]
  },
  {
   "cell_type": "markdown",
   "id": "trained-affair",
   "metadata": {},
   "source": [
    "```\n",
    "--- Day 2: Password Philosophy ---\n",
    "Your flight departs in a few days from the coastal airport; the easiest way down to the coast from here is via toboggan.\n",
    "\n",
    "The shopkeeper at the North Pole Toboggan Rental Shop is having a bad day. \"Something's wrong with our computers; we can't log in!\" You ask if you can take a look.\n",
    "\n",
    "Their password database seems to be a little corrupted: some of the passwords wouldn't have been allowed by the Official Toboggan Corporate Policy that was in effect when they were chosen.\n",
    "\n",
    "To try to debug the problem, they have created a list (your puzzle input) of passwords (according to the corrupted database) and the corporate policy when that password was set.\n",
    "\n",
    "For example, suppose you have the following list:\n",
    "\n",
    "1-3 a: abcde\n",
    "1-3 b: cdefg\n",
    "2-9 c: ccccccccc\n",
    "Each line gives the password policy and then the password. The password policy indicates the lowest and highest number of times a given letter must appear for the password to be valid. For example, 1-3 a means that the password must contain a at least 1 time and at most 3 times.\n",
    "\n",
    "In the above example, 2 passwords are valid. The middle password, cdefg, is not; it contains no instances of b, but needs at least 1. The first and third passwords are valid: they contain one a or nine c, both within the limits of their respective policies.\n",
    "\n",
    "How many passwords are valid according to their policies?\n",
    "```"
   ]
  },
  {
   "cell_type": "code",
   "execution_count": 346,
   "id": "wired-failure",
   "metadata": {},
   "outputs": [],
   "source": [
    "def read_file(filename):\n",
    "    with open(os.path.join('input', filename), 'r') as f:\n",
    "        data = []\n",
    "        for line in f.read().splitlines():\n",
    "            restrictions, pw = line.split(': ')\n",
    "            minmax = re.findall(\"\\d+\", restrictions) \n",
    "            data.append({\n",
    "                'pw': pw,\n",
    "                'min': int(minmax[0]),\n",
    "                'max': int(minmax[1]),\n",
    "                'letter': restrictions[-1]\n",
    "            })\n",
    "        return data\n",
    "\n",
    "def is_valid(d):\n",
    "    count = d['pw'].count(d['letter'])\n",
    "    return count >= d['min'] and count <= d['max']"
   ]
  },
  {
   "cell_type": "code",
   "execution_count": 347,
   "id": "suitable-irish",
   "metadata": {},
   "outputs": [
    {
     "data": {
      "text/plain": [
       "645"
      ]
     },
     "execution_count": 347,
     "metadata": {},
     "output_type": "execute_result"
    }
   ],
   "source": [
    "data = read_file('02.txt')\n",
    "result = sum(is_valid(d) for d in data)\n",
    "result"
   ]
  },
  {
   "cell_type": "markdown",
   "id": "psychological-chemistry",
   "metadata": {},
   "source": [
    "```\n",
    "--- Part Two ---\n",
    "While it appears you validated the passwords correctly, they don't seem to be what the Official Toboggan Corporate Authentication System is expecting.\n",
    "\n",
    "The shopkeeper suddenly realizes that he just accidentally explained the password policy rules from his old job at the sled rental place down the street! The Official Toboggan Corporate Policy actually works a little differently.\n",
    "\n",
    "Each policy actually describes two positions in the password, where 1 means the first character, 2 means the second character, and so on. (Be careful; Toboggan Corporate Policies have no concept of \"index zero\"!) Exactly one of these positions must contain the given letter. Other occurrences of the letter are irrelevant for the purposes of policy enforcement.\n",
    "\n",
    "Given the same example list from above:\n",
    "\n",
    "1-3 a: abcde is valid: position 1 contains a and position 3 does not.\n",
    "1-3 b: cdefg is invalid: neither position 1 nor position 3 contains b.\n",
    "2-9 c: ccccccccc is invalid: both position 2 and position 9 contain c.\n",
    "\n",
    "How many passwords are valid according to the new interpretation of the policies?\n",
    "```"
   ]
  },
  {
   "cell_type": "code",
   "execution_count": 348,
   "id": "noted-helping",
   "metadata": {},
   "outputs": [],
   "source": [
    "def is_valid(d):\n",
    "    a = d['pw'][d['min'] - 1]\n",
    "    b = d['pw'][d['max'] - 1]\n",
    "    return operator.xor(a == d['letter'], b == d['letter'])"
   ]
  },
  {
   "cell_type": "code",
   "execution_count": 349,
   "id": "fourth-trade",
   "metadata": {},
   "outputs": [
    {
     "data": {
      "text/plain": [
       "737"
      ]
     },
     "execution_count": 349,
     "metadata": {},
     "output_type": "execute_result"
    }
   ],
   "source": [
    "result = sum(is_valid(d) for d in data)\n",
    "result"
   ]
  },
  {
   "cell_type": "markdown",
   "id": "respected-stockholm",
   "metadata": {},
   "source": [
    "```\n",
    "--- Day 3: Toboggan Trajectory ---\n",
    "With the toboggan login problems resolved, you set off toward the airport. While travel by toboggan might be easy, it's certainly not safe: there's very minimal steering and the area is covered in trees. You'll need to see which angles will take you near the fewest trees.\n",
    "\n",
    "Due to the local geology, trees in this area only grow on exact integer coordinates in a grid. You make a map (your puzzle input) of the open squares (.) and trees (#) you can see. For example:\n",
    "\n",
    "..##.......\n",
    "#...#...#..\n",
    ".#....#..#.\n",
    "..#.#...#.#\n",
    ".#...##..#.\n",
    "..#.##.....\n",
    ".#.#.#....#\n",
    ".#........#\n",
    "#.##...#...\n",
    "#...##....#\n",
    ".#..#...#.#\n",
    "These aren't the only trees, though; due to something you read about once involving arboreal genetics and biome stability, the same pattern repeats to the right many times:\n",
    "\n",
    "..##.........##.........##.........##.........##.........##.......  --->\n",
    "#...#...#..#...#...#..#...#...#..#...#...#..#...#...#..#...#...#..\n",
    ".#....#..#..#....#..#..#....#..#..#....#..#..#....#..#..#....#..#.\n",
    "..#.#...#.#..#.#...#.#..#.#...#.#..#.#...#.#..#.#...#.#..#.#...#.#\n",
    ".#...##..#..#...##..#..#...##..#..#...##..#..#...##..#..#...##..#.\n",
    "..#.##.......#.##.......#.##.......#.##.......#.##.......#.##.....  --->\n",
    ".#.#.#....#.#.#.#....#.#.#.#....#.#.#.#....#.#.#.#....#.#.#.#....#\n",
    ".#........#.#........#.#........#.#........#.#........#.#........#\n",
    "#.##...#...#.##...#...#.##...#...#.##...#...#.##...#...#.##...#...\n",
    "#...##....##...##....##...##....##...##....##...##....##...##....#\n",
    ".#..#...#.#.#..#...#.#.#..#...#.#.#..#...#.#.#..#...#.#.#..#...#.#  --->\n",
    "You start on the open square (.) in the top-left corner and need to reach the bottom (below the bottom-most row on your map).\n",
    "\n",
    "The toboggan can only follow a few specific slopes (you opted for a cheaper model that prefers rational numbers); start by counting all the trees you would encounter for the slope right 3, down 1:\n",
    "\n",
    "From your starting position at the top-left, check the position that is right 3 and down 1. Then, check the position that is right 3 and down 1 from there, and so on until you go past the bottom of the map.\n",
    "\n",
    "The locations you'd check in the above example are marked here with O where there was an open square and X where there was a tree:\n",
    "\n",
    "..##.........##.........##.........##.........##.........##.......  --->\n",
    "#..O#...#..#...#...#..#...#...#..#...#...#..#...#...#..#...#...#..\n",
    ".#....X..#..#....#..#..#....#..#..#....#..#..#....#..#..#....#..#.\n",
    "..#.#...#O#..#.#...#.#..#.#...#.#..#.#...#.#..#.#...#.#..#.#...#.#\n",
    ".#...##..#..X...##..#..#...##..#..#...##..#..#...##..#..#...##..#.\n",
    "..#.##.......#.X#.......#.##.......#.##.......#.##.......#.##.....  --->\n",
    ".#.#.#....#.#.#.#.O..#.#.#.#....#.#.#.#....#.#.#.#....#.#.#.#....#\n",
    ".#........#.#........X.#........#.#........#.#........#.#........#\n",
    "#.##...#...#.##...#...#.X#...#...#.##...#...#.##...#...#.##...#...\n",
    "#...##....##...##....##...#X....##...##....##...##....##...##....#\n",
    ".#..#...#.#.#..#...#.#.#..#...X.#.#..#...#.#.#..#...#.#.#..#...#.#  --->\n",
    "In this example, traversing the map using this slope would cause you to encounter 7 trees.\n",
    "\n",
    "Starting at the top-left corner of your map and following a slope of right 3 and down 1, how many trees would you encounter?\n",
    "```"
   ]
  },
  {
   "cell_type": "code",
   "execution_count": 2,
   "id": "russian-publicity",
   "metadata": {},
   "outputs": [],
   "source": [
    "def read_file(filename):\n",
    "    with open(os.path.join('input', filename), 'r') as f:\n",
    "        return f.read().splitlines()"
   ]
  },
  {
   "cell_type": "code",
   "execution_count": 3,
   "id": "alpine-baptist",
   "metadata": {},
   "outputs": [],
   "source": [
    "data = read_file('03.txt')"
   ]
  },
  {
   "cell_type": "code",
   "execution_count": 4,
   "id": "reserved-chamber",
   "metadata": {},
   "outputs": [],
   "source": [
    "col = 0\n",
    "trees = 0\n",
    "for row in data:\n",
    "    if row[col] == '#':\n",
    "        trees += 1\n",
    "    col += 3\n",
    "    if col >= len(row):\n",
    "        col -= len(row)"
   ]
  },
  {
   "cell_type": "code",
   "execution_count": 5,
   "id": "false-logic",
   "metadata": {},
   "outputs": [
    {
     "data": {
      "text/plain": [
       "242"
      ]
     },
     "execution_count": 5,
     "metadata": {},
     "output_type": "execute_result"
    }
   ],
   "source": [
    "trees"
   ]
  },
  {
   "cell_type": "markdown",
   "id": "guided-beach",
   "metadata": {},
   "source": [
    "```\n",
    "--- Part Two ---\n",
    "Time to check the rest of the slopes - you need to minimize the probability of a sudden arboreal stop, after all.\n",
    "\n",
    "Determine the number of trees you would encounter if, for each of the following slopes, you start at the top-left corner and traverse the map all the way to the bottom:\n",
    "\n",
    "Right 1, down 1.\n",
    "Right 3, down 1. (This is the slope you already checked.)\n",
    "Right 5, down 1.\n",
    "Right 7, down 1.\n",
    "Right 1, down 2.\n",
    "In the above example, these slopes would find 2, 7, 3, 4, and 2 tree(s) respectively; multiplied together, these produce the answer 336.\n",
    "\n",
    "What do you get if you multiply together the number of trees encountered on each of the listed slopes?\n",
    "```"
   ]
  },
  {
   "cell_type": "code",
   "execution_count": 6,
   "id": "demonstrated-worth",
   "metadata": {},
   "outputs": [],
   "source": [
    "def traverse(right, down):\n",
    "    col = 0\n",
    "    trees = 0\n",
    "    for row in data[::down]:\n",
    "        if row[col] == '#':\n",
    "            trees += 1\n",
    "        col += right\n",
    "        if col >= len(row):\n",
    "            col -= len(row)\n",
    "    return trees"
   ]
  },
  {
   "cell_type": "code",
   "execution_count": 7,
   "id": "continuous-bosnia",
   "metadata": {},
   "outputs": [
    {
     "data": {
      "text/plain": [
       "2265549792"
      ]
     },
     "execution_count": 7,
     "metadata": {},
     "output_type": "execute_result"
    }
   ],
   "source": [
    "result = math.prod([\n",
    "    traverse(1, 1),\n",
    "    traverse(3, 1),\n",
    "    traverse(5, 1),\n",
    "    traverse(7, 1),\n",
    "    traverse(1, 2),\n",
    "])\n",
    "result"
   ]
  },
  {
   "cell_type": "markdown",
   "id": "opened-newsletter",
   "metadata": {},
   "source": [
    "```\n",
    "--- Day 4: Passport Processing ---\n",
    "You arrive at the airport only to realize that you grabbed your North Pole Credentials instead of your passport. While these documents are extremely similar, North Pole Credentials aren't issued by a country and therefore aren't actually valid documentation for travel in most of the world.\n",
    "\n",
    "It seems like you're not the only one having problems, though; a very long line has formed for the automatic passport scanners, and the delay could upset your travel itinerary.\n",
    "\n",
    "Due to some questionable network security, you realize you might be able to solve both of these problems at the same time.\n",
    "\n",
    "The automatic passport scanners are slow because they're having trouble detecting which passports have all required fields. The expected fields are as follows:\n",
    "\n",
    "byr (Birth Year)\n",
    "iyr (Issue Year)\n",
    "eyr (Expiration Year)\n",
    "hgt (Height)\n",
    "hcl (Hair Color)\n",
    "ecl (Eye Color)\n",
    "pid (Passport ID)\n",
    "cid (Country ID)\n",
    "Passport data is validated in batch files (your puzzle input). Each passport is represented as a sequence of key:value pairs separated by spaces or newlines. Passports are separated by blank lines.\n",
    "\n",
    "Here is an example batch file containing four passports:\n",
    "\n",
    "ecl:gry pid:860033327 eyr:2020 hcl:#fffffd\n",
    "byr:1937 iyr:2017 cid:147 hgt:183cm\n",
    "\n",
    "iyr:2013 ecl:amb cid:350 eyr:2023 pid:028048884\n",
    "hcl:#cfa07d byr:1929\n",
    "\n",
    "hcl:#ae17e1 iyr:2013\n",
    "eyr:2024\n",
    "ecl:brn pid:760753108 byr:1931\n",
    "hgt:179cm\n",
    "\n",
    "hcl:#cfa07d eyr:2025 pid:166559648\n",
    "iyr:2011 ecl:brn hgt:59in\n",
    "The first passport is valid - all eight fields are present. The second passport is invalid - it is missing hgt (the Height field).\n",
    "\n",
    "The third passport is interesting; the only missing field is cid, so it looks like data from North Pole Credentials, not a passport at all! Surely, nobody would mind if you made the system temporarily ignore missing cid fields. Treat this \"passport\" as valid.\n",
    "\n",
    "The fourth passport is missing two fields, cid and byr. Missing cid is fine, but missing any other field is not, so this passport is invalid.\n",
    "\n",
    "According to the above rules, your improved system would report 2 valid passports.\n",
    "\n",
    "Count the number of valid passports - those that have all required fields. Treat cid as optional. In your batch file, how many passports are valid?\n",
    "```"
   ]
  },
  {
   "cell_type": "code",
   "execution_count": 356,
   "id": "heavy-telephone",
   "metadata": {},
   "outputs": [],
   "source": [
    "def read_file(filename):\n",
    "    with open(os.path.join('input', filename), 'r') as f:\n",
    "        passports = f.read().split('\\n\\n')\n",
    "        passports_entries = [ p.split() for p in passports ]\n",
    "        data = [ dict(e.split(':') for e in pe) for pe in passports_entries  ]\n",
    "        return data"
   ]
  },
  {
   "cell_type": "code",
   "execution_count": 357,
   "id": "sporting-release",
   "metadata": {},
   "outputs": [],
   "source": [
    "data = read_file('04.txt')"
   ]
  },
  {
   "cell_type": "code",
   "execution_count": 49,
   "id": "average-efficiency",
   "metadata": {},
   "outputs": [],
   "source": [
    "required_keys = [\n",
    "    'byr',\n",
    "    'iyr',\n",
    "    'eyr',\n",
    "    'hgt',\n",
    "    'hcl',\n",
    "    'ecl',\n",
    "    'pid',\n",
    "]\n",
    "\n",
    "def is_valid(passport):\n",
    "    return all(k in passport for k in required_keys)"
   ]
  },
  {
   "cell_type": "code",
   "execution_count": 359,
   "id": "executed-musician",
   "metadata": {},
   "outputs": [
    {
     "data": {
      "text/plain": [
       "226"
      ]
     },
     "execution_count": 359,
     "metadata": {},
     "output_type": "execute_result"
    }
   ],
   "source": [
    "result = sum(is_valid(d) for d in data)\n",
    "result"
   ]
  },
  {
   "cell_type": "markdown",
   "id": "identical-subdivision",
   "metadata": {},
   "source": [
    "```\n",
    "--- Part Two ---\n",
    "The line is moving more quickly now, but you overhear airport security talking about how passports with invalid data are getting through. Better add some data validation, quick!\n",
    "\n",
    "You can continue to ignore the cid field, but each other field has strict rules about what values are valid for automatic validation:\n",
    "\n",
    "byr (Birth Year) - four digits; at least 1920 and at most 2002.\n",
    "iyr (Issue Year) - four digits; at least 2010 and at most 2020.\n",
    "eyr (Expiration Year) - four digits; at least 2020 and at most 2030.\n",
    "hgt (Height) - a number followed by either cm or in:\n",
    "If cm, the number must be at least 150 and at most 193.\n",
    "If in, the number must be at least 59 and at most 76.\n",
    "hcl (Hair Color) - a # followed by exactly six characters 0-9 or a-f.\n",
    "ecl (Eye Color) - exactly one of: amb blu brn gry grn hzl oth.\n",
    "pid (Passport ID) - a nine-digit number, including leading zeroes.\n",
    "cid (Country ID) - ignored, missing or not.\n",
    "Your job is to count the passports where all required fields are both present and valid according to the above rules. Here are some example values:\n",
    "\n",
    "byr valid:   2002\n",
    "byr invalid: 2003\n",
    "\n",
    "hgt valid:   60in\n",
    "hgt valid:   190cm\n",
    "hgt invalid: 190in\n",
    "hgt invalid: 190\n",
    "\n",
    "hcl valid:   #123abc\n",
    "hcl invalid: #123abz\n",
    "hcl invalid: 123abc\n",
    "\n",
    "ecl valid:   brn\n",
    "ecl invalid: wat\n",
    "\n",
    "pid valid:   000000001\n",
    "pid invalid: 0123456789\n",
    "Here are some invalid passports:\n",
    "\n",
    "eyr:1972 cid:100\n",
    "hcl:#18171d ecl:amb hgt:170 pid:186cm iyr:2018 byr:1926\n",
    "\n",
    "iyr:2019\n",
    "hcl:#602927 eyr:1967 hgt:170cm\n",
    "ecl:grn pid:012533040 byr:1946\n",
    "\n",
    "hcl:dab227 iyr:2012\n",
    "ecl:brn hgt:182cm pid:021572410 eyr:2020 byr:1992 cid:277\n",
    "\n",
    "hgt:59cm ecl:zzz\n",
    "eyr:2038 hcl:74454a iyr:2023\n",
    "pid:3556412378 byr:2007\n",
    "Here are some valid passports:\n",
    "\n",
    "pid:087499704 hgt:74in ecl:grn iyr:2012 eyr:2030 byr:1980\n",
    "hcl:#623a2f\n",
    "\n",
    "eyr:2029 ecl:blu cid:129 byr:1989\n",
    "iyr:2014 pid:896056539 hcl:#a97842 hgt:165cm\n",
    "\n",
    "hcl:#888785\n",
    "hgt:164cm byr:2001 iyr:2015 cid:88\n",
    "pid:545766238 ecl:hzl\n",
    "eyr:2022\n",
    "\n",
    "iyr:2010 hgt:158cm hcl:#b6652a ecl:blu byr:1944 eyr:2021 pid:093154719\n",
    "Count the number of valid passports - those that have all required fields and valid values. Continue to treat cid as optional. In your batch file, how many passports are valid?\n",
    "```"
   ]
  },
  {
   "cell_type": "code",
   "execution_count": 360,
   "id": "favorite-stylus",
   "metadata": {},
   "outputs": [],
   "source": [
    "def is_valid(passport):\n",
    "    try:\n",
    "        # byr (Birth Year) - four digits; at least 1920 and at most 2002.\n",
    "        byr = int(passport['byr'])\n",
    "        if byr < 1920 or byr > 2002: \n",
    "            return False\n",
    "        \n",
    "        # iyr (Issue Year) - four digits; at least 2010 and at most 2020.\n",
    "        iyr = int(passport['iyr'])\n",
    "        if iyr < 2010 or iyr > 2020: \n",
    "            return False\n",
    "        \n",
    "        # eyr (Expiration Year) - four digits; at least 2020 and at most 2030.\n",
    "        eyr = int(passport['eyr'])\n",
    "        if eyr < 2020 or eyr > 2030:\n",
    "            return False\n",
    "        \n",
    "        # hgt (Height) - a number followed by either cm or in:\n",
    "        hgt = passport['hgt']\n",
    "        hgt_unit = hgt[-2:]\n",
    "        hgt_number = int(re.match('\\d+', hgt)[0])\n",
    "        if hgt_unit == 'cm':\n",
    "            # If cm, the number must be at least 150 and at most 193.\n",
    "            if hgt_number < 150 or hgt_number > 193:\n",
    "                return False\n",
    "        elif hgt_unit == 'in':\n",
    "            # If in, the number must be at least 59 and at most 76.\n",
    "            if hgt_number < 59 or hgt_number > 76: \n",
    "                return False\n",
    "        else: \n",
    "            return False  # wrong or missing unit\n",
    "        \n",
    "        # hcl (Hair Color) - a # followed by exactly six characters 0-9 or a-f.\n",
    "        hcl = passport['hcl']\n",
    "        if not re.match('^#[0-9a-f]{6}$', hcl):\n",
    "            return False\n",
    "        \n",
    "        # ecl (Eye Color) - exactly one of: amb blu brn gry grn hzl oth.\n",
    "        ecl = passport['ecl']\n",
    "        ecls = ['amb', 'blu', 'brn', 'gry', 'grn', 'hzl', 'oth']\n",
    "        if not ecl in ecls:\n",
    "            return False\n",
    "        \n",
    "        # pid (Passport ID) - a nine-digit number, including leading zeroes.\n",
    "        pid = passport['pid']\n",
    "        if not re.match('^\\d{9}$', pid):\n",
    "            return False\n",
    "        \n",
    "        return True\n",
    "    except KeyError:\n",
    "        return False"
   ]
  },
  {
   "cell_type": "code",
   "execution_count": 361,
   "id": "mathematical-pixel",
   "metadata": {
    "scrolled": false
   },
   "outputs": [
    {
     "data": {
      "text/plain": [
       "160"
      ]
     },
     "execution_count": 361,
     "metadata": {},
     "output_type": "execute_result"
    }
   ],
   "source": [
    "result = sum(is_valid(d) for d in data)\n",
    "result"
   ]
  },
  {
   "cell_type": "markdown",
   "id": "corresponding-night",
   "metadata": {},
   "source": [
    "```\n",
    "--- Day 5: Binary Boarding ---\n",
    "You board your plane only to discover a new problem: you dropped your boarding pass! You aren't sure which seat is yours, and all of the flight attendants are busy with the flood of people that suddenly made it through passport control.\n",
    "\n",
    "You write a quick program to use your phone's camera to scan all of the nearby boarding passes (your puzzle input); perhaps you can find your seat through process of elimination.\n",
    "\n",
    "Instead of zones or groups, this airline uses binary space partitioning to seat people. A seat might be specified like FBFBBFFRLR, where F means \"front\", B means \"back\", L means \"left\", and R means \"right\".\n",
    "\n",
    "The first 7 characters will either be F or B; these specify exactly one of the 128 rows on the plane (numbered 0 through 127). Each letter tells you which half of a region the given seat is in. Start with the whole list of rows; the first letter indicates whether the seat is in the front (0 through 63) or the back (64 through 127). The next letter indicates which half of that region the seat is in, and so on until you're left with exactly one row.\n",
    "\n",
    "For example, consider just the first seven characters of FBFBBFFRLR:\n",
    "\n",
    "Start by considering the whole range, rows 0 through 127.\n",
    "F means to take the lower half, keeping rows 0 through 63.\n",
    "B means to take the upper half, keeping rows 32 through 63.\n",
    "F means to take the lower half, keeping rows 32 through 47.\n",
    "B means to take the upper half, keeping rows 40 through 47.\n",
    "B keeps rows 44 through 47.\n",
    "F keeps rows 44 through 45.\n",
    "The final F keeps the lower of the two, row 44.\n",
    "The last three characters will be either L or R; these specify exactly one of the 8 columns of seats on the plane (numbered 0 through 7). The same process as above proceeds again, this time with only three steps. L means to keep the lower half, while R means to keep the upper half.\n",
    "\n",
    "For example, consider just the last 3 characters of FBFBBFFRLR:\n",
    "\n",
    "Start by considering the whole range, columns 0 through 7.\n",
    "R means to take the upper half, keeping columns 4 through 7.\n",
    "L means to take the lower half, keeping columns 4 through 5.\n",
    "The final R keeps the upper of the two, column 5.\n",
    "So, decoding FBFBBFFRLR reveals that it is the seat at row 44, column 5.\n",
    "\n",
    "Every seat also has a unique seat ID: multiply the row by 8, then add the column. In this example, the seat has ID 44 * 8 + 5 = 357.\n",
    "\n",
    "Here are some other boarding passes:\n",
    "\n",
    "BFFFBBFRRR: row 70, column 7, seat ID 567.\n",
    "FFFBBBFRRR: row 14, column 7, seat ID 119.\n",
    "BBFFBBFRLL: row 102, column 4, seat ID 820.\n",
    "As a sanity check, look through your list of boarding passes. What is the highest seat ID on a boarding pass?\n",
    "```"
   ]
  },
  {
   "cell_type": "code",
   "execution_count": 362,
   "id": "intimate-finder",
   "metadata": {},
   "outputs": [],
   "source": [
    "def read_file(filename):\n",
    "    with open(os.path.join('input', filename), 'r') as f:\n",
    "        return f.read().splitlines()\n",
    "\n",
    "def seat(path, row_min = 0, row_max = 127, col_min = 0, col_max = 7):\n",
    "    if len(path) == 0:\n",
    "        return seat_id(row_min, col_min)\n",
    "        \n",
    "    x = path[0]\n",
    "    if x == 'B':\n",
    "        return seat(path[1:], (row_min + row_max)//2 + 1, row_max, col_min, col_max)\n",
    "    if x == 'F':\n",
    "        return seat(path[1:], row_min, row_min + (row_max - row_min)//2, col_min, col_max)\n",
    "    if x == 'R':\n",
    "        return seat(path[1:], row_min, row_max, (col_min + col_max)//2 + 1, col_max)\n",
    "    if x == 'L':\n",
    "        return seat(path[1:], row_min, row_max, col_min, col_min + (col_max - col_min)//2)\n",
    "\n",
    "def seat_id(row, col):\n",
    "    return row * 8 + col"
   ]
  },
  {
   "cell_type": "code",
   "execution_count": 365,
   "id": "behavioral-relief",
   "metadata": {},
   "outputs": [
    {
     "data": {
      "text/plain": [
       "828"
      ]
     },
     "execution_count": 365,
     "metadata": {},
     "output_type": "execute_result"
    }
   ],
   "source": [
    "data = read_file('05.txt')\n",
    "result = max(seat(d) for d in data)\n",
    "result"
   ]
  },
  {
   "cell_type": "markdown",
   "id": "engaging-diving",
   "metadata": {},
   "source": [
    "```\n",
    "--- Part Two ---\n",
    "Ding! The \"fasten seat belt\" signs have turned on. Time to find your seat.\n",
    "\n",
    "It's a completely full flight, so your seat should be the only missing boarding pass in your list. However, there's a catch: some of the seats at the very front and back of the plane don't exist on this aircraft, so they'll be missing from your list as well.\n",
    "\n",
    "Your seat wasn't at the very front or back, though; the seats with IDs +1 and -1 from yours will be in your list.\n",
    "\n",
    "What is the ID of your seat?\n",
    "```"
   ]
  },
  {
   "cell_type": "code",
   "execution_count": 366,
   "id": "based-identification",
   "metadata": {},
   "outputs": [
    {
     "name": "stdout",
     "output_type": "stream",
     "text": [
      "565\n"
     ]
    }
   ],
   "source": [
    "seat_ids = sorted(seat(d) for d in data)\n",
    "for i in range(len(seat_ids)):\n",
    "    if not seat_ids[i] + 1 == seat_ids[i + 1]:\n",
    "        print(seat_ids[i] + 1)\n",
    "        break"
   ]
  },
  {
   "cell_type": "markdown",
   "id": "forced-invention",
   "metadata": {},
   "source": [
    "```\n",
    "--- Day 6: Custom Customs ---\n",
    "As your flight approaches the regional airport where you'll switch to a much larger plane, customs declaration forms are distributed to the passengers.\n",
    "\n",
    "The form asks a series of 26 yes-or-no questions marked a through z. All you need to do is identify the questions for which anyone in your group answers \"yes\". Since your group is just you, this doesn't take very long.\n",
    "\n",
    "However, the person sitting next to you seems to be experiencing a language barrier and asks if you can help. For each of the people in their group, you write down the questions for which they answer \"yes\", one per line. For example:\n",
    "\n",
    "abcx\n",
    "abcy\n",
    "abcz\n",
    "In this group, there are 6 questions to which anyone answered \"yes\": a, b, c, x, y, and z. (Duplicate answers to the same question don't count extra; each question counts at most once.)\n",
    "\n",
    "Another group asks for your help, then another, and eventually you've collected answers from every group on the plane (your puzzle input). Each group's answers are separated by a blank line, and within each group, each person's answers are on a single line. For example:\n",
    "\n",
    "abc\n",
    "\n",
    "a\n",
    "b\n",
    "c\n",
    "\n",
    "ab\n",
    "ac\n",
    "\n",
    "a\n",
    "a\n",
    "a\n",
    "a\n",
    "\n",
    "b\n",
    "This list represents answers from five groups:\n",
    "\n",
    "The first group contains one person who answered \"yes\" to 3 questions: a, b, and c.\n",
    "The second group contains three people; combined, they answered \"yes\" to 3 questions: a, b, and c.\n",
    "The third group contains two people; combined, they answered \"yes\" to 3 questions: a, b, and c.\n",
    "The fourth group contains four people; combined, they answered \"yes\" to only 1 question, a.\n",
    "The last group contains one person who answered \"yes\" to only 1 question, b.\n",
    "In this example, the sum of these counts is 3 + 3 + 3 + 1 + 1 = 11.\n",
    "\n",
    "For each group, count the number of questions to which anyone answered \"yes\". What is the sum of those counts?\n",
    "```"
   ]
  },
  {
   "cell_type": "code",
   "execution_count": 33,
   "id": "discrete-demand",
   "metadata": {},
   "outputs": [],
   "source": [
    "def read_file(filename):\n",
    "    with open(os.path.join('input', filename), 'r') as f:\n",
    "        groups = f.read().split('\\n\\n')\n",
    "        results = [ group.split() for group in groups ]\n",
    "        return results\n",
    "    \n",
    "def yes_count(group):\n",
    "    return len(set(''.join(group)))"
   ]
  },
  {
   "cell_type": "code",
   "execution_count": 34,
   "id": "patent-efficiency",
   "metadata": {},
   "outputs": [
    {
     "data": {
      "text/plain": [
       "6249"
      ]
     },
     "execution_count": 34,
     "metadata": {},
     "output_type": "execute_result"
    }
   ],
   "source": [
    "data = read_file('06.txt')\n",
    "result = sum(yes_count(group) for group in data)\n",
    "result"
   ]
  },
  {
   "cell_type": "markdown",
   "id": "otherwise-louisville",
   "metadata": {},
   "source": [
    "```\n",
    "--- Part Two ---\n",
    "As you finish the last group's customs declaration, you notice that you misread one word in the instructions:\n",
    "\n",
    "You don't need to identify the questions to which anyone answered \"yes\"; you need to identify the questions to which everyone answered \"yes\"!\n",
    "\n",
    "Using the same example as above:\n",
    "\n",
    "abc\n",
    "\n",
    "a\n",
    "b\n",
    "c\n",
    "\n",
    "ab\n",
    "ac\n",
    "\n",
    "a\n",
    "a\n",
    "a\n",
    "a\n",
    "\n",
    "b\n",
    "This list represents answers from five groups:\n",
    "\n",
    "In the first group, everyone (all 1 person) answered \"yes\" to 3 questions: a, b, and c.\n",
    "In the second group, there is no question to which everyone answered \"yes\".\n",
    "In the third group, everyone answered yes to only 1 question, a. Since some people did not answer \"yes\" to b or c, they don't count.\n",
    "In the fourth group, everyone answered yes to only 1 question, a.\n",
    "In the fifth group, everyone (all 1 person) answered \"yes\" to 1 question, b.\n",
    "In this example, the sum of these counts is 3 + 0 + 1 + 1 + 1 = 6.\n",
    "\n",
    "For each group, count the number of questions to which everyone answered \"yes\". What is the sum of those counts?\n",
    "```"
   ]
  },
  {
   "cell_type": "code",
   "execution_count": 47,
   "id": "demanding-andrew",
   "metadata": {},
   "outputs": [],
   "source": [
    "def yes_count(group):\n",
    "    common = functools.reduce(lambda x, acc: set(x).intersection(acc), group)\n",
    "    return len(common)"
   ]
  },
  {
   "cell_type": "code",
   "execution_count": 48,
   "id": "renewable-country",
   "metadata": {},
   "outputs": [
    {
     "data": {
      "text/plain": [
       "3103"
      ]
     },
     "execution_count": 48,
     "metadata": {},
     "output_type": "execute_result"
    }
   ],
   "source": [
    "result = sum(yes_count(group) for group in data)\n",
    "result"
   ]
  },
  {
   "cell_type": "markdown",
   "id": "defined-consortium",
   "metadata": {},
   "source": [
    "```\n",
    "--- Day 7: Handy Haversacks ---\n",
    "You land at the regional airport in time for your next flight. In fact, it looks like you'll even have time to grab some food: all flights are currently delayed due to issues in luggage processing.\n",
    "\n",
    "Due to recent aviation regulations, many rules (your puzzle input) are being enforced about bags and their contents; bags must be color-coded and must contain specific quantities of other color-coded bags. Apparently, nobody responsible for these regulations considered how long they would take to enforce!\n",
    "\n",
    "For example, consider the following rules:\n",
    "\n",
    "light red bags contain 1 bright white bag, 2 muted yellow bags.\n",
    "dark orange bags contain 3 bright white bags, 4 muted yellow bags.\n",
    "bright white bags contain 1 shiny gold bag.\n",
    "muted yellow bags contain 2 shiny gold bags, 9 faded blue bags.\n",
    "shiny gold bags contain 1 dark olive bag, 2 vibrant plum bags.\n",
    "dark olive bags contain 3 faded blue bags, 4 dotted black bags.\n",
    "vibrant plum bags contain 5 faded blue bags, 6 dotted black bags.\n",
    "faded blue bags contain no other bags.\n",
    "dotted black bags contain no other bags.\n",
    "These rules specify the required contents for 9 bag types. In this example, every faded blue bag is empty, every vibrant plum bag contains 11 bags (5 faded blue and 6 dotted black), and so on.\n",
    "\n",
    "You have a shiny gold bag. If you wanted to carry it in at least one other bag, how many different bag colors would be valid for the outermost bag? (In other words: how many colors can, eventually, contain at least one shiny gold bag?)\n",
    "\n",
    "In the above rules, the following options would be available to you:\n",
    "\n",
    "A bright white bag, which can hold your shiny gold bag directly.\n",
    "A muted yellow bag, which can hold your shiny gold bag directly, plus some other bags.\n",
    "A dark orange bag, which can hold bright white and muted yellow bags, either of which could then hold your shiny gold bag.\n",
    "A light red bag, which can hold bright white and muted yellow bags, either of which could then hold your shiny gold bag.\n",
    "So, in this example, the number of bag colors that can eventually contain at least one shiny gold bag is 4.\n",
    "\n",
    "How many bag colors can eventually contain at least one shiny gold bag? (The list of rules is quite long; make sure you get all of it.)\n",
    "```"
   ]
  },
  {
   "cell_type": "code",
   "execution_count": 111,
   "id": "fatal-creek",
   "metadata": {},
   "outputs": [],
   "source": [
    "inp = \"\"\"light red bags contain 1 bright white bag, 2 muted yellow bags.\n",
    "dark orange bags contain 3 bright white bags, 4 muted yellow bags.\n",
    "bright white bags contain 1 shiny gold bag.\n",
    "muted yellow bags contain 2 shiny gold bags, 9 faded blue bags.\n",
    "shiny gold bags contain 1 dark olive bag, 2 vibrant plum bags.\n",
    "dark olive bags contain 3 faded blue bags, 4 dotted black bags.\n",
    "vibrant plum bags contain 5 faded blue bags, 6 dotted black bags.\n",
    "faded blue bags contain no other bags.\n",
    "dotted black bags contain no other bags.\"\"\""
   ]
  },
  {
   "cell_type": "code",
   "execution_count": 105,
   "id": "other-breakdown",
   "metadata": {},
   "outputs": [],
   "source": [
    "colors = {\n",
    "    'light red': {\n",
    "        'bright white': 1,\n",
    "        'muted yellow': 2,\n",
    "    },\n",
    "    'dark orange': {\n",
    "        'bright white': 3,\n",
    "        'muted yellow': 4,\n",
    "    },\n",
    "    'bright white': {\n",
    "        'shiny gold': 1,\n",
    "    },\n",
    "    'muted yellow': {\n",
    "        'shiny gold': 2,\n",
    "        'faded blue': 9,\n",
    "    },\n",
    "    'shiny gold': {\n",
    "        'dark olive': 1,\n",
    "        'vibrant plum': 2,\n",
    "    },\n",
    "    'dark olive': {\n",
    "        'faded blue': 3,\n",
    "        'dotted black': 4,\n",
    "    },\n",
    "    'vibrant plum': {\n",
    "        'faded blue': 5,\n",
    "        'dotted black': 6,\n",
    "    },\n",
    "    'light red': {\n",
    "        'bright white': 1,\n",
    "        'muted yellow': 2,\n",
    "    },\n",
    "    'faded blue': {},\n",
    "    'dotted black': {},\n",
    "}"
   ]
  },
  {
   "cell_type": "code",
   "execution_count": 211,
   "id": "sitting-argument",
   "metadata": {},
   "outputs": [],
   "source": [
    "def read_file(filename):\n",
    "    with open(os.path.join('input', filename), 'r') as f:\n",
    "        lines = [tuple(line.split(\" bags contain \")) for line in f.read().splitlines()]\n",
    "        result = {}\n",
    "        for line in lines:\n",
    "            result[line[0]] = {}\n",
    "            for content in line[1].split(', '):\n",
    "                c = to_color(content)\n",
    "                if c:\n",
    "                    result[line[0]].update({c})\n",
    "        return result\n",
    "\n",
    "def to_color(content):\n",
    "    match = re.match(\"(\\d+) (.*) bag\", content)\n",
    "    if match:\n",
    "        return (match.group(2), int(match.group(1)))\n",
    "    return None\n",
    "\n",
    "def traverse(color, target_color):\n",
    "    for contained_color in colors[color]:\n",
    "        if contained_color == target_color:\n",
    "            return True\n",
    "        result = traverse(contained_color, target_color)\n",
    "        if result:\n",
    "            return True\n",
    "    return False"
   ]
  },
  {
   "cell_type": "code",
   "execution_count": 212,
   "id": "technical-pierre",
   "metadata": {},
   "outputs": [
    {
     "data": {
      "text/plain": [
       "287"
      ]
     },
     "execution_count": 212,
     "metadata": {},
     "output_type": "execute_result"
    }
   ],
   "source": [
    "colors = read_file('07.txt')\n",
    "result = sum(traverse(color, 'shiny gold') for color in colors)\n",
    "result"
   ]
  },
  {
   "cell_type": "code",
   "execution_count": null,
   "id": "presidential-watts",
   "metadata": {},
   "outputs": [],
   "source": []
  }
 ],
 "metadata": {
  "kernelspec": {
   "display_name": "Python 3",
   "language": "python",
   "name": "python3"
  },
  "language_info": {
   "codemirror_mode": {
    "name": "ipython",
    "version": 3
   },
   "file_extension": ".py",
   "mimetype": "text/x-python",
   "name": "python",
   "nbconvert_exporter": "python",
   "pygments_lexer": "ipython3",
   "version": "3.9.0"
  }
 },
 "nbformat": 4,
 "nbformat_minor": 5
}
